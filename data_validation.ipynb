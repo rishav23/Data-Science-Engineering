{
 "cells": [
  {
   "cell_type": "markdown",
   "metadata": {},
   "source": [
    "Type Checking: Verify that the data is of the expected data types."
   ]
  },
  {
   "cell_type": "code",
   "execution_count": 1,
   "metadata": {},
   "outputs": [
    {
     "name": "stdout",
     "output_type": "stream",
     "text": [
      "     age                          age_validation\n",
      "0  hello  Error: Age must be a positive integer.\n",
      "1    NaN               Error: Age value is null.\n",
      "2      3                                   Valid\n",
      "3     47                                   Valid\n",
      "4     27                                   Valid\n",
      "5   None               Error: Age value is null.\n",
      "6    NaN               Error: Age value is null.\n",
      "7    NaN               Error: Age value is null.\n",
      "8     76                                   Valid\n",
      "9      5                                   Valid\n"
     ]
    }
   ],
   "source": [
    "import pandas as pd\n",
    "import numpy as np\n",
    "\n",
    "# Number of rows in the DataFrame\n",
    "num_rows = 10\n",
    "\n",
    "# Generate random age values between 1 and 100, and add some errors\n",
    "ages = [str(np.random.randint(1, 101)) if np.random.rand() > 0.2 else np.nan for _ in range(num_rows)]\n",
    "ages[0] = \"hello\"  # Adding a string error\n",
    "ages[5] = None     # Adding a null value error\n",
    "\n",
    "# Create the DataFrame with the \"age\" column\n",
    "df = pd.DataFrame({'age': ages})\n",
    "\n",
    "# Define the validation function\n",
    "def validate_age(age):\n",
    "    if pd.isnull(age):\n",
    "        return \"Error: Age value is null.\"\n",
    "    try:\n",
    "        age = int(age)\n",
    "        if age < 1 or age > 150:\n",
    "            return \"Error: Age must be between 1 and 150.\"\n",
    "    except ValueError:\n",
    "        return \"Error: Age must be a positive integer.\"\n",
    "    return \"Valid\"\n",
    "\n",
    "# Apply the validation function to the \"age\" column and create a new column for validation status\n",
    "df['age_validation'] = df['age'].apply(validate_age)\n",
    "\n",
    "print(df)"
   ]
  },
  {
   "cell_type": "markdown",
   "metadata": {},
   "source": [
    "Key Existence Check: Ensure that required keys are present in data."
   ]
  },
  {
   "cell_type": "code",
   "execution_count": 18,
   "metadata": {},
   "outputs": [
    {
     "name": "stdout",
     "output_type": "stream",
     "text": [
      "      name      age  roll_number\n",
      "0     John       25        101.0\n",
      "1    Alice       23        102.0\n",
      "2      Bob  invalid          NaN\n",
      "3  Charlie       -5        104.0\n",
      "Invalid data:\n",
      "Invalid age 'invalid' in row 2. Age must be a positive integer between 1 and 150.\n",
      "Missing value in row 2, column 'roll_number'.\n",
      "Invalid age '-5' in row 3. Age must be a positive integer between 1 and 150.\n"
     ]
    }
   ],
   "source": [
    "import pandas as pd\n",
    "\n",
    "def validate_student_data(student_data):\n",
    "    error_messages = []\n",
    "\n",
    "    for index, row in student_data.iterrows():\n",
    "        for key, value in row.items():\n",
    "            if pd.isna(value):\n",
    "                error_messages.append(f\"Missing value in row {index}, column '{key}'.\")\n",
    "            elif key == 'age' and (not isinstance(value, int) or value < 0 or value > 150):\n",
    "                error_messages.append(f\"Invalid age '{value}' in row {index}. Age must be a positive integer between 1 and 150.\")\n",
    "\n",
    "    if error_messages:\n",
    "        raise ValueError(\"\\n\".join(error_messages))\n",
    "\n",
    "# Sample student data with erroneous values\n",
    "student_data = {\n",
    "    'name': ['John', 'Alice', 'Bob', 'Charlie'],\n",
    "    'age': [25, 23, 'invalid', -5],\n",
    "    'roll_number': [101, 102, None, 104]\n",
    "}\n",
    "\n",
    "# Create the DataFrame\n",
    "df = pd.DataFrame(student_data)\n",
    "\n",
    "print(df)\n",
    "\n",
    "# Validate the DataFrame\n",
    "try:\n",
    "    validate_student_data(df)\n",
    "    print(\"Data is valid.\")\n",
    "except ValueError as e:\n",
    "    print(f\"Invalid data:\\n{str(e)}\")\n"
   ]
  },
  {
   "cell_type": "markdown",
   "metadata": {},
   "source": [
    "Value Range Check: Validate that the data falls within a specified range or set of allowed values."
   ]
  },
  {
   "cell_type": "code",
   "execution_count": 21,
   "metadata": {},
   "outputs": [
    {
     "name": "stdout",
     "output_type": "stream",
     "text": [
      "   scores\n",
      "0      95\n",
      "1      78\n",
      "2     105\n",
      "3      88\n",
      "4      -5\n",
      "5      70\n",
      "6     120\n",
      "Invalid scores found in rows: 2, 4, 6.\n"
     ]
    }
   ],
   "source": [
    "import pandas as pd\n",
    "\n",
    "def validate_score(score):\n",
    "    if not (0 <= score <= 100):\n",
    "        raise ValueError(\"Score must be between 0 and 100.\")\n",
    "\n",
    "# Sample scores data\n",
    "scores_data = {\n",
    "    'scores': [95, 78, 105, 88, -5, 70, 120]\n",
    "}\n",
    "\n",
    "# Create the DataFrame\n",
    "df = pd.DataFrame(scores_data)\n",
    "\n",
    "print(df)\n",
    "\n",
    "# Validate the scores in the DataFrame\n",
    "invalid_rows = []\n",
    "for index, row in df.iterrows():\n",
    "    try:\n",
    "        validate_score(row['scores'])\n",
    "    except ValueError as e:\n",
    "        invalid_rows.append(index)\n",
    "\n",
    "if invalid_rows:\n",
    "    print(f\"Invalid scores found in rows: {', '.join(map(str, invalid_rows))}.\")\n",
    "else:\n",
    "    print(\"All scores are valid.\")"
   ]
  },
  {
   "cell_type": "markdown",
   "metadata": {},
   "source": [
    "Length Check: Verify that the length of the data is within acceptable bounds."
   ]
  },
  {
   "cell_type": "code",
   "execution_count": 24,
   "metadata": {},
   "outputs": [
    {
     "name": "stdout",
     "output_type": "stream",
     "text": [
      "   scores\n",
      "0      95\n",
      "1      78\n",
      "2     105\n",
      "3      88\n",
      "4      -5\n",
      "5      70\n",
      "6     120\n",
      "Invalid scores found in rows: 2, 4, 6.\n"
     ]
    }
   ],
   "source": [
    "import pandas as pd\n",
    "\n",
    "def validate_score(score):\n",
    "    if not (0 <= score <= 100):\n",
    "        raise ValueError(\"Score must be between 0 and 100.\")\n",
    "\n",
    "# Sample scores data\n",
    "scores_data = {\n",
    "    'scores': [95, 78, 105, 88, -5, 70, 120]\n",
    "}\n",
    "\n",
    "# Create the DataFrame\n",
    "df = pd.DataFrame(scores_data)\n",
    "\n",
    "print(df)\n",
    "\n",
    "# Validate the scores in the DataFrame\n",
    "invalid_rows = []\n",
    "for index, row in df.iterrows():\n",
    "    try:\n",
    "        validate_score(row['scores'])\n",
    "    except ValueError as e:\n",
    "        invalid_rows.append(index)\n",
    "\n",
    "if invalid_rows:\n",
    "    print(f\"Invalid scores found in rows: {', '.join(map(str, invalid_rows))}.\")\n",
    "else:\n",
    "    print(\"All scores are valid.\")\n",
    "\n"
   ]
  },
  {
   "cell_type": "markdown",
   "metadata": {},
   "source": [
    "Format Validation: Ensure that the data follows a specific format (e.g., date format, email format)."
   ]
  },
  {
   "cell_type": "code",
   "execution_count": 23,
   "metadata": {},
   "outputs": [
    {
     "name": "stdout",
     "output_type": "stream",
     "text": [
      "                  email\n",
      "0  john.doe@example.com\n",
      "1         alice@example\n",
      "2         invalid.email\n",
      "3           charlie@com\n",
      "4       bob@company.com\n",
      "Invalid email addresses found in rows: 1, 2, 3.\n"
     ]
    }
   ],
   "source": [
    "import pandas as pd\n",
    "import re\n",
    "\n",
    "def validate_email(email):\n",
    "    pattern = r'^[a-zA-Z0-9._%+-]+@[a-zA-Z0-9.-]+\\.[a-zA-Z]{2,}$'\n",
    "    if not re.match(pattern, email):\n",
    "        raise ValueError(\"Invalid email format.\")\n",
    "\n",
    "# Sample email data with some erroneous email addresses\n",
    "email_data = {\n",
    "    'email': ['john.doe@example.com', 'alice@example', 'invalid.email', 'charlie@com', 'bob@company.com']\n",
    "}\n",
    "\n",
    "# Create the DataFrame\n",
    "df = pd.DataFrame(email_data)\n",
    "\n",
    "print(df)\n",
    "\n",
    "# Validate the email addresses in the DataFrame\n",
    "invalid_indices = []\n",
    "for index, row in df.iterrows():\n",
    "    try:\n",
    "        validate_email(row['email'])\n",
    "    except ValueError:\n",
    "        invalid_indices.append(index)\n",
    "\n",
    "if invalid_indices:\n",
    "    print(f\"Invalid email addresses found in rows: {', '.join(map(str, invalid_indices))}.\")\n",
    "else:\n",
    "    print(\"All email addresses are valid.\")\n",
    "\n"
   ]
  },
  {
   "cell_type": "markdown",
   "metadata": {},
   "source": [
    "Data Integrity Check: Ensure that the structured data maintains integrity (e.g., relationships between data elements)."
   ]
  },
  {
   "cell_type": "code",
   "execution_count": null,
   "metadata": {},
   "outputs": [],
   "source": []
  },
  {
   "cell_type": "markdown",
   "metadata": {},
   "source": [
    "Uniqueness Check: Ensure that elements in a list or dictionary are unique."
   ]
  },
  {
   "cell_type": "code",
   "execution_count": null,
   "metadata": {},
   "outputs": [],
   "source": []
  },
  {
   "cell_type": "markdown",
   "metadata": {},
   "source": [
    "Membership Check: Verify that elements in the data structure are present in a predefined set."
   ]
  },
  {
   "cell_type": "code",
   "execution_count": null,
   "metadata": {},
   "outputs": [],
   "source": []
  },
  {
   "cell_type": "markdown",
   "metadata": {},
   "source": [
    "Required Fields Check: Ensure that specific fields are not empty or contain valid data."
   ]
  },
  {
   "cell_type": "code",
   "execution_count": null,
   "metadata": {},
   "outputs": [],
   "source": []
  },
  {
   "cell_type": "markdown",
   "metadata": {},
   "source": [
    "Consistency Check: Validate that data is consistent across related structures (e.g., dictionaries in a list)."
   ]
  },
  {
   "cell_type": "code",
   "execution_count": null,
   "metadata": {},
   "outputs": [],
   "source": []
  },
  {
   "cell_type": "markdown",
   "metadata": {},
   "source": [
    "Validation Using Regular Expressions: Validate data against defined patterns using regular expressions."
   ]
  },
  {
   "cell_type": "code",
   "execution_count": null,
   "metadata": {},
   "outputs": [],
   "source": []
  },
  {
   "cell_type": "markdown",
   "metadata": {},
   "source": [
    "Custom Validation Functions: Implement custom validation functions tailored to specific data requirements."
   ]
  },
  {
   "cell_type": "code",
   "execution_count": null,
   "metadata": {},
   "outputs": [],
   "source": []
  },
  {
   "cell_type": "markdown",
   "metadata": {},
   "source": [
    "Business Rule Validation: Validate data against predefined business rules or constraints."
   ]
  },
  {
   "cell_type": "code",
   "execution_count": null,
   "metadata": {},
   "outputs": [],
   "source": []
  },
  {
   "cell_type": "markdown",
   "metadata": {},
   "source": [
    "Dependency Check: Ensure that the presence of one field in the data implies the presence or absence of other fields."
   ]
  },
  {
   "cell_type": "code",
   "execution_count": null,
   "metadata": {},
   "outputs": [],
   "source": []
  },
  {
   "cell_type": "markdown",
   "metadata": {},
   "source": [
    "Context-Based Validation: Validate data based on the context or state of the application."
   ]
  },
  {
   "cell_type": "code",
   "execution_count": null,
   "metadata": {},
   "outputs": [],
   "source": []
  },
  {
   "cell_type": "markdown",
   "metadata": {},
   "source": [
    "Cross-Field Validation: Validate data across multiple fields for consistency."
   ]
  },
  {
   "cell_type": "code",
   "execution_count": null,
   "metadata": {},
   "outputs": [],
   "source": []
  },
  {
   "cell_type": "markdown",
   "metadata": {},
   "source": [
    "alidation using External APIs: Validate data by calling external APIs or services."
   ]
  },
  {
   "cell_type": "code",
   "execution_count": null,
   "metadata": {},
   "outputs": [],
   "source": []
  },
  {
   "cell_type": "markdown",
   "metadata": {},
   "source": [
    "Concurrency Control: Ensure data consistency in multi-threaded or multi-process environments."
   ]
  },
  {
   "cell_type": "code",
   "execution_count": null,
   "metadata": {},
   "outputs": [],
   "source": []
  },
  {
   "cell_type": "markdown",
   "metadata": {},
   "source": [
    "Schema Validation: Use JSON Schema or other schema validation tools to validate structured data."
   ]
  },
  {
   "cell_type": "code",
   "execution_count": null,
   "metadata": {},
   "outputs": [],
   "source": []
  },
  {
   "cell_type": "markdown",
   "metadata": {},
   "source": [
    "Strict Mode: Implement a strict mode for data validation, where certain constraints are enforced more rigorously."
   ]
  },
  {
   "cell_type": "markdown",
   "metadata": {},
   "source": []
  },
  {
   "cell_type": "markdown",
   "metadata": {},
   "source": [
    "Localization Validation: Validate data based on localization and regional standards (e.g., date formats, number formats)."
   ]
  },
  {
   "cell_type": "code",
   "execution_count": null,
   "metadata": {},
   "outputs": [],
   "source": []
  }
 ],
 "metadata": {
  "kernelspec": {
   "display_name": "Python 3",
   "language": "python",
   "name": "python3"
  },
  "language_info": {
   "codemirror_mode": {
    "name": "ipython",
    "version": 3
   },
   "file_extension": ".py",
   "mimetype": "text/x-python",
   "name": "python",
   "nbconvert_exporter": "python",
   "pygments_lexer": "ipython3",
   "version": "3.11.4"
  },
  "orig_nbformat": 4
 },
 "nbformat": 4,
 "nbformat_minor": 2
}
