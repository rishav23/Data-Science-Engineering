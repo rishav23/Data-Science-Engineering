{
 "cells": [
  {
   "cell_type": "markdown",
   "metadata": {},
   "source": [
    "Type Checking: Verify that the data is of the expected data types."
   ]
  },
  {
   "cell_type": "code",
   "execution_count": 1,
   "metadata": {},
   "outputs": [
    {
     "name": "stdout",
     "output_type": "stream",
     "text": [
      "     age                          age_validation\n",
      "0  hello  Error: Age must be a positive integer.\n",
      "1    NaN               Error: Age value is null.\n",
      "2      3                                   Valid\n",
      "3     47                                   Valid\n",
      "4     27                                   Valid\n",
      "5   None               Error: Age value is null.\n",
      "6    NaN               Error: Age value is null.\n",
      "7    NaN               Error: Age value is null.\n",
      "8     76                                   Valid\n",
      "9      5                                   Valid\n"
     ]
    }
   ],
   "source": [
    "import pandas as pd\n",
    "import numpy as np\n",
    "\n",
    "# Number of rows in the DataFrame\n",
    "num_rows = 10\n",
    "\n",
    "# Generate random age values between 1 and 100, and add some errors\n",
    "ages = [str(np.random.randint(1, 101)) if np.random.rand() > 0.2 else np.nan for _ in range(num_rows)]\n",
    "ages[0] = \"hello\"  # Adding a string error\n",
    "ages[5] = None     # Adding a null value error\n",
    "\n",
    "# Create the DataFrame with the \"age\" column\n",
    "df = pd.DataFrame({'age': ages})\n",
    "\n",
    "# Define the validation function\n",
    "def validate_age(age):\n",
    "    if pd.isnull(age):\n",
    "        return \"Error: Age value is null.\"\n",
    "    try:\n",
    "        age = int(age)\n",
    "        if age < 1 or age > 150:\n",
    "            return \"Error: Age must be between 1 and 150.\"\n",
    "    except ValueError:\n",
    "        return \"Error: Age must be a positive integer.\"\n",
    "    return \"Valid\"\n",
    "\n",
    "# Apply the validation function to the \"age\" column and create a new column for validation status\n",
    "df['age_validation'] = df['age'].apply(validate_age)\n",
    "\n",
    "print(df)"
   ]
  },
  {
   "cell_type": "markdown",
   "metadata": {},
   "source": [
    "Key Existence Check: Ensure that required keys are present in data."
   ]
  },
  {
   "cell_type": "code",
   "execution_count": 18,
   "metadata": {},
   "outputs": [
    {
     "name": "stdout",
     "output_type": "stream",
     "text": [
      "      name      age  roll_number\n",
      "0     John       25        101.0\n",
      "1    Alice       23        102.0\n",
      "2      Bob  invalid          NaN\n",
      "3  Charlie       -5        104.0\n",
      "Invalid data:\n",
      "Invalid age 'invalid' in row 2. Age must be a positive integer between 1 and 150.\n",
      "Missing value in row 2, column 'roll_number'.\n",
      "Invalid age '-5' in row 3. Age must be a positive integer between 1 and 150.\n"
     ]
    }
   ],
   "source": [
    "import pandas as pd\n",
    "\n",
    "def validate_student_data(student_data):\n",
    "    error_messages = []\n",
    "\n",
    "    for index, row in student_data.iterrows():\n",
    "        for key, value in row.items():\n",
    "            if pd.isna(value):\n",
    "                error_messages.append(f\"Missing value in row {index}, column '{key}'.\")\n",
    "            elif key == 'age' and (not isinstance(value, int) or value < 0 or value > 150):\n",
    "                error_messages.append(f\"Invalid age '{value}' in row {index}. Age must be a positive integer between 1 and 150.\")\n",
    "\n",
    "    if error_messages:\n",
    "        raise ValueError(\"\\n\".join(error_messages))\n",
    "\n",
    "# Sample student data with erroneous values\n",
    "student_data = {\n",
    "    'name': ['John', 'Alice', 'Bob', 'Charlie'],\n",
    "    'age': [25, 23, 'invalid', -5],\n",
    "    'roll_number': [101, 102, None, 104]\n",
    "}\n",
    "\n",
    "# Create the DataFrame\n",
    "df = pd.DataFrame(student_data)\n",
    "\n",
    "print(df)\n",
    "\n",
    "# Validate the DataFrame\n",
    "try:\n",
    "    validate_student_data(df)\n",
    "    print(\"Data is valid.\")\n",
    "except ValueError as e:\n",
    "    print(f\"Invalid data:\\n{str(e)}\")\n"
   ]
  }
 ],
 "metadata": {
  "kernelspec": {
   "display_name": "Python 3",
   "language": "python",
   "name": "python3"
  },
  "language_info": {
   "codemirror_mode": {
    "name": "ipython",
    "version": 3
   },
   "file_extension": ".py",
   "mimetype": "text/x-python",
   "name": "python",
   "nbconvert_exporter": "python",
   "pygments_lexer": "ipython3",
   "version": "3.11.4"
  },
  "orig_nbformat": 4
 },
 "nbformat": 4,
 "nbformat_minor": 2
}
