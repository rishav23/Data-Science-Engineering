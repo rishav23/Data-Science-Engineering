{
 "cells": [
  {
   "cell_type": "markdown",
   "metadata": {},
   "source": [
    "Type Checking: Verify that the data is of the expected data types."
   ]
  },
  {
   "cell_type": "code",
   "execution_count": null,
   "metadata": {
    "vscode": {
     "languageId": "plaintext"
    }
   },
   "outputs": [],
   "source": [
    "def validate_age(age):\n",
    "    if not isinstance(age, int):\n",
    "        raise ValueError(\"Age must be an integer.\")\n",
    "    # Further processing...\n"
   ]
  },
  {
   "cell_type": "code",
   "execution_count": null,
   "metadata": {
    "vscode": {
     "languageId": "plaintext"
    }
   },
   "outputs": [],
   "source": [
    "def validate_age(age):\n",
    "    if not isinstance(age, int):\n",
    "        raise ValueError(\"Age must be an integer.\")\n",
    "    # Further processing...\n"
   ]
  }
 ],
 "metadata": {
  "language_info": {
   "name": "python"
  },
  "orig_nbformat": 4
 },
 "nbformat": 4,
 "nbformat_minor": 2
}
