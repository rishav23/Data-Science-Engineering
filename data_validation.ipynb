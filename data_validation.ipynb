{
 "cells": [
  {
   "cell_type": "markdown",
   "metadata": {},
   "source": [
    "Type Checking: Verify that the data is of the expected data types."
   ]
  },
  {
   "cell_type": "code",
   "execution_count": 1,
   "metadata": {},
   "outputs": [
    {
     "name": "stdout",
     "output_type": "stream",
     "text": [
      "     age                          age_validation\n",
      "0  hello  Error: Age must be a positive integer.\n",
      "1    NaN               Error: Age value is null.\n",
      "2      3                                   Valid\n",
      "3     47                                   Valid\n",
      "4     27                                   Valid\n",
      "5   None               Error: Age value is null.\n",
      "6    NaN               Error: Age value is null.\n",
      "7    NaN               Error: Age value is null.\n",
      "8     76                                   Valid\n",
      "9      5                                   Valid\n"
     ]
    }
   ],
   "source": [
    "import pandas as pd\n",
    "import numpy as np\n",
    "\n",
    "# Number of rows in the DataFrame\n",
    "num_rows = 10\n",
    "\n",
    "# Generate random age values between 1 and 100, and add some errors\n",
    "ages = [str(np.random.randint(1, 101)) if np.random.rand() > 0.2 else np.nan for _ in range(num_rows)]\n",
    "ages[0] = \"hello\"  # Adding a string error\n",
    "ages[5] = None     # Adding a null value error\n",
    "\n",
    "# Create the DataFrame with the \"age\" column\n",
    "df = pd.DataFrame({'age': ages})\n",
    "\n",
    "# Define the validation function\n",
    "def validate_age(age):\n",
    "    if pd.isnull(age):\n",
    "        return \"Error: Age value is null.\"\n",
    "    try:\n",
    "        age = int(age)\n",
    "        if age < 1 or age > 150:\n",
    "            return \"Error: Age must be between 1 and 150.\"\n",
    "    except ValueError:\n",
    "        return \"Error: Age must be a positive integer.\"\n",
    "    return \"Valid\"\n",
    "\n",
    "# Apply the validation function to the \"age\" column and create a new column for validation status\n",
    "df['age_validation'] = df['age'].apply(validate_age)\n",
    "\n",
    "print(df)"
   ]
  },
  {
   "cell_type": "markdown",
   "metadata": {},
   "source": []
  }
 ],
 "metadata": {
  "kernelspec": {
   "display_name": "Python 3",
   "language": "python",
   "name": "python3"
  },
  "language_info": {
   "codemirror_mode": {
    "name": "ipython",
    "version": 3
   },
   "file_extension": ".py",
   "mimetype": "text/x-python",
   "name": "python",
   "nbconvert_exporter": "python",
   "pygments_lexer": "ipython3",
   "version": "3.11.4"
  },
  "orig_nbformat": 4
 },
 "nbformat": 4,
 "nbformat_minor": 2
}
