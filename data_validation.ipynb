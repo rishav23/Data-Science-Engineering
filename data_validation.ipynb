{
 "cells": [
  {
   "cell_type": "markdown",
   "metadata": {},
   "source": [
    "Type Checking: Verify that the data is of the expected data types."
   ]
  },
  {
   "cell_type": "code",
   "execution_count": 10,
   "metadata": {},
   "outputs": [
    {
     "name": "stdout",
     "output_type": "stream",
     "text": [
      "Age column is valid.\n"
     ]
    }
   ],
   "source": [
    "import pandas as pd\n",
    "import numpy as np\n",
    "\n",
    "# Number of rows in the DataFrame\n",
    "num_rows = 10\n",
    "\n",
    "# Generate random age values between 1 and 100\n",
    "random_ages = np.random.randint(1, 101, num_rows)\n",
    "\n",
    "# Create the DataFrame with the \"age\" column\n",
    "df = pd.DataFrame({'age': random_ages})\n",
    "\n",
    "def validate_age(age):\n",
    "    if not isinstance(age, (int, np.int64)):\n",
    "        raise ValueError(\"Age must be an integer.\")\n",
    "\n",
    "# Apply the validation function to the \"age\" column\n",
    "try:\n",
    "    df['age'].apply(validate_age)\n",
    "    print(\"Age column is valid.\")\n",
    "except ValueError as e:\n",
    "    print(f\"Invalid age in the Age column: {str(e)}\")\n"
   ]
  }
 ],
 "metadata": {
  "kernelspec": {
   "display_name": "Python 3",
   "language": "python",
   "name": "python3"
  },
  "language_info": {
   "codemirror_mode": {
    "name": "ipython",
    "version": 3
   },
   "file_extension": ".py",
   "mimetype": "text/x-python",
   "name": "python",
   "nbconvert_exporter": "python",
   "pygments_lexer": "ipython3",
   "version": "3.11.4"
  },
  "orig_nbformat": 4
 },
 "nbformat": 4,
 "nbformat_minor": 2
}
